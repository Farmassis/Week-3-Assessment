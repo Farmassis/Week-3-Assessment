{
 "cells": [
  {
   "cell_type": "markdown",
   "metadata": {},
   "source": [
    "##  MealFast App\n",
    "**Software detects and translates complaints made by French customers to English, and also translate to any language the team specifies**\n",
    "\n",
    "***Functional requirements\n",
    "\n",
    "1. The system welcomes the user\n",
    "2. The system asks the user to select preferred language option\n",
    "3. The system asks the user to input his/her name\n",
    "4. The system asks the user to enter a complaint\n",
    "\n",
    "***Complaint suggestions\n",
    "\n",
    "1. Issues with placing an order\n",
    "2. Issues with making payments\n",
    "3. Issues with refunds"
   ]
  },
  {
   "cell_type": "code",
   "execution_count": 13,
   "metadata": {},
   "outputs": [
    {
     "name": "stdout",
     "output_type": "stream",
     "text": [
      "Hello! Welcome to MealFast.ng\n",
      "I am your virtual assistant & TimBot\n",
      "Enter your Name: Ibilolia\n",
      "Enter your preferred language option: french\n",
      "Enter your complaints:  payment error\n",
      "complaint has been submitted\n"
     ]
    }
   ],
   "source": [
    "# Welcome\n",
    "complain_bank = {}\n",
    "\n",
    "Ticket = 1\n",
    "print(\"Hello! Welcome to MealFast.ng\")\n",
    "print(\"I am your virtual assistant & TimBot\")\n",
    "name = input(\"Enter your Name: \")\n",
    "Language = input(\"Enter your preferred language option: \")\n",
    "Complaints = input(\"Enter your complaints:  \")\n",
    "print(\"complaint has been submitted\")\n",
    "complain_bank = {\"No.\": Ticket, \"Complaint\": Complaints}\n",
    "counter = 499\n",
    "counter < 500\n",
    "\n",
    "complain_bank[name] = name\n",
    "complain_bank[Language] = Language\n",
    "complain_bank[Complaints] = Complaints\n"
   ]
  },
  {
   "cell_type": "markdown",
   "metadata": {},
   "source": [
    "##SYSTEM FOR THE TEAM\n"
   ]
  },
  {
   "cell_type": "code",
   "execution_count": 15,
   "metadata": {},
   "outputs": [
    {
     "name": "stdout",
     "output_type": "stream",
     "text": [
      "Do you want to see listed complaints?yes\n",
      "{'No.': 1, 'Complaint': 'payment error', 'Ibilolia': 'Ibilolia', 'french': 'french', 'payment error': 'payment error'}\n"
     ]
    }
   ],
   "source": [
    "ans = input(\"Do you want to see listed complaints?\")\n",
    "if ans == \"yes\":\n",
    "    print(complain_bank)\n",
    "    \n",
    "    \n"
   ]
  },
  {
   "cell_type": "code",
   "execution_count": 16,
   "metadata": {},
   "outputs": [
    {
     "name": "stdout",
     "output_type": "stream",
     "text": [
      "Which complaint would you like to resolve? 1\n",
      "1\n"
     ]
    }
   ],
   "source": [
    "## Team user picks a complaint\n",
    "query = input(\"Which complaint would you like to resolve? \")\n",
    "print(query)\n",
    "\n"
   ]
  },
  {
   "cell_type": "code",
   "execution_count": 2,
   "metadata": {},
   "outputs": [],
   "source": [
    "#importing the module\n",
    "import json"
   ]
  },
  {
   "cell_type": "code",
   "execution_count": 19,
   "metadata": {},
   "outputs": [],
   "source": [
    "def LangDetector():\n",
    "    import requests\n",
    "\n",
    "    url = \"https://google-translate1.p.rapidapi.com/language/translate/v2/detect\"\n",
    "\n",
    "    payload = \"q=English%20is%20hard%2C%20but%20detectably%20so\"\n",
    "    headers = {\n",
    "        'content-type': \"application/x-www-form-urlencoded\",\n",
    "        'accept-encoding': \"application/gzip\",\n",
    "        'x-rapidapi-key': \"db9a1a1ccemsh6fc507bdb044df8p1f8efbjsn2c1f5b973571\",\n",
    "        'x-rapidapi-host': \"google-translate1.p.rapidapi.com\"\n",
    "        }\n",
    "\n",
    "    response = requests.request(\"POST\", url, data=payload, headers=headers)\n",
    "\n",
    "    print(response.text)"
   ]
  },
  {
   "cell_type": "code",
   "execution_count": 20,
   "metadata": {},
   "outputs": [
    {
     "name": "stdout",
     "output_type": "stream",
     "text": [
      "{\"data\":{\"detections\":[[{\"language\":\"en\",\"confidence\":1,\"isReliable\":false}]]}}\n"
     ]
    }
   ],
   "source": [
    "LangDetector()\n"
   ]
  },
  {
   "cell_type": "code",
   "execution_count": 34,
   "metadata": {},
   "outputs": [],
   "source": [
    "def LangTranslator():\n",
    "    import requests\n",
    "    \n",
    "    url = \"https://google-translate1.p.rapidapi.com/language/translate/v2\"\n",
    "\n",
    "    payload = \"q=Hello%2C%20world!&target=fr&source=en\"\n",
    "    headers = {\n",
    "        'content-type': \"application/x-www-form-urlencoded\",\n",
    "        'accept-encoding': \"application/gzip\",\n",
    "        'x-rapidapi-key': \"db9a1a1ccemsh6fc507bdb044df8p1f8efbjsn2c1f5b973571\",\n",
    "        'x-rapidapi-host': \"google-translate1.p.rapidapi.com\"\n",
    "        }\n",
    "\n",
    "    response = requests.request(\"POST\", url, data=payload, headers=headers)\n",
    "\n",
    "    print(response.text)"
   ]
  },
  {
   "cell_type": "code",
   "execution_count": 36,
   "metadata": {},
   "outputs": [
    {
     "name": "stdout",
     "output_type": "stream",
     "text": [
      "{\"data\":{\"translations\":[{\"translatedText\":\"Bonjour le monde!\"}]}}\n"
     ]
    }
   ],
   "source": [
    "LangTranslator()\n",
    "    "
   ]
  },
  {
   "cell_type": "code",
   "execution_count": null,
   "metadata": {},
   "outputs": [],
   "source": []
  }
 ],
 "metadata": {
  "kernelspec": {
   "display_name": "Python 3",
   "language": "python",
   "name": "python3"
  },
  "language_info": {
   "codemirror_mode": {
    "name": "ipython",
    "version": 3
   },
   "file_extension": ".py",
   "mimetype": "text/x-python",
   "name": "python",
   "nbconvert_exporter": "python",
   "pygments_lexer": "ipython3",
   "version": "3.8.5"
  }
 },
 "nbformat": 4,
 "nbformat_minor": 4
}
